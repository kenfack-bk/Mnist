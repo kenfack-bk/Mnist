{
 "cells": [
  {
   "cell_type": "code",
   "execution_count": 23,
   "metadata": {},
   "outputs": [],
   "source": [
    "#import des librairies\n",
    "\n",
    "import tensorflow as tf\n",
    "from tensorflow import keras\n",
    "\n",
    "from sklearn.datasets import fetch_california_housing\n",
    "from sklearn.model_selection import train_test_split\n",
    "from sklearn.preprocessing import StandardScaler\n",
    "from scipy.stats import reciprocal\n",
    "from sklearn.model_selection import RandomizedSearchCV\n",
    "\n",
    "import numpy as np\n",
    "import pandas as pd\n",
    "import matplotlib.pyplot as plt"
   ]
  },
  {
   "cell_type": "code",
   "execution_count": 2,
   "metadata": {},
   "outputs": [],
   "source": [
    "# Chargement du dataset  MNIST \n",
    "\n",
    "mnist = keras.datasets.mnist\n",
    "(X_train_full, y_train_full), (X_test, y_test) = mnist.load_data()"
   ]
  },
  {
   "cell_type": "code",
   "execution_count": 3,
   "metadata": {},
   "outputs": [
    {
     "name": "stdout",
     "output_type": "stream",
     "text": [
      "Train: X=(60000, 28, 28), y=(60000,)\n",
      "Test: X=(10000, 28, 28), y=(10000,)\n"
     ]
    }
   ],
   "source": [
    "print('Train: X=%s, y=%s' % (X_train_full.shape, y_train_full.shape))\n",
    "print('Test: X=%s, y=%s' % (X_test.shape, y_test.shape))"
   ]
  },
  {
   "cell_type": "code",
   "execution_count": 8,
   "metadata": {},
   "outputs": [
    {
     "name": "stdout",
     "output_type": "stream",
     "text": [
      "Label =  5\n"
     ]
    },
    {
     "data": {
      "image/png": "[encoded data removed]",
      "text/plain": [
       "<Figure size 432x288 with 1 Axes>"
      ]
     },
     "metadata": {
      "needs_background": "light"
     },
     "output_type": "display_data"
    }
   ],
   "source": [
    "# visualisation du dataset\n",
    "\n",
    "def visualise_sample(image_index=0): \n",
    "    image_index = image_index # You may select anything up to 60,000\n",
    "    print(\"Label = \", y_train_full[image_index])\n",
    "    plt.imshow(X_train_full[image_index], cmap='Greys')\n",
    "    \n",
    "visualise_sample(20000)"
   ]
  },
  {
   "cell_type": "code",
   "execution_count": 38,
   "metadata": {},
   "outputs": [],
   "source": [
    "# Mise à l'échelle des caractéristiques. utile pour la descente de gradien\n",
    "# Création d'un set de validation\n",
    "\n",
    "def prepare_data(X_train_full, y_train_full):\n",
    "    X_valid, X_train = X_train_full[:5000] / 255.0, X_train_full[5000:] / 255.0\n",
    "    y_valid, y_train = y_train_full[:5000], y_train_full[5000:]\n",
    "    return X_valid, X_train, y_valid, y_train\n",
    "\n",
    "X_valid, X_train, y_valid, y_train = prepare_data(X_train_full, y_train_full)\n",
    "#visualise_sample(20000)"
   ]
  },
  {
   "cell_type": "code",
   "execution_count": 20,
   "metadata": {},
   "outputs": [],
   "source": [
    "# Construction et compilation du modèle à partir des hyperparamètres\n",
    "\n",
    "def build_model(n_hidden=1, n_neurons=100, learning_rate=3e-3, input_shape=[28, 28]):\n",
    "    model = keras.models.Sequential()   \n",
    "    model.add(keras.layers.InputLayer(input_shape=input_shape)) \n",
    "    model.add(keras.layers.Flatten(input_shape=input_shape))\n",
    "    for layer in range(n_hidden):        \n",
    "        model.add(keras.layers.Dense(n_neurons, activation=\"relu\"))    \n",
    "    model.add(keras.layers.Dense(10, activation=\"softmax\"))    \n",
    "    optimizer = keras.optimizers.SGD(lr=learning_rate)    \n",
    "    model.compile(loss=\"sparse_categorical_crossentropy\", optimizer=optimizer, metrics=[\"accuracy\"])    \n",
    "    return model"
   ]
  },
  {
   "cell_type": "code",
   "execution_count": 31,
   "metadata": {},
   "outputs": [
    {
     "name": "stdout",
     "output_type": "stream",
     "text": [
      "Epoch 1/30\n",
      "1719/1719 [==============================] - 9s 5ms/step - loss: 1.2869 - accuracy: 0.6722 - val_loss: 0.6283 - val_accuracy: 0.8484\n",
      "Epoch 2/30\n",
      "1719/1719 [==============================] - 9s 5ms/step - loss: 0.5115 - accuracy: 0.8652 - val_loss: 0.4093 - val_accuracy: 0.8930\n",
      "Epoch 3/30\n",
      "1719/1719 [==============================] - 9s 5ms/step - loss: 0.3929 - accuracy: 0.8906 - val_loss: 0.3437 - val_accuracy: 0.9082\n",
      "Epoch 4/30\n",
      "1719/1719 [==============================] - 9s 5ms/step - loss: 0.3457 - accuracy: 0.9024 - val_loss: 0.3125 - val_accuracy: 0.9124\n",
      "Epoch 5/30\n",
      "1719/1719 [==============================] - 9s 5ms/step - loss: 0.3176 - accuracy: 0.9092 - val_loss: 0.2882 - val_accuracy: 0.9204\n",
      "Epoch 6/30\n",
      "1719/1719 [==============================] - 10s 6ms/step - loss: 0.2973 - accuracy: 0.9156 - val_loss: 0.2723 - val_accuracy: 0.9238\n",
      "Epoch 7/30\n",
      "1719/1719 [==============================] - 10s 6ms/step - loss: 0.2808 - accuracy: 0.9192 - val_loss: 0.2566 - val_accuracy: 0.9290\n",
      "Epoch 8/30\n",
      "1719/1719 [==============================] - 10s 6ms/step - loss: 0.2667 - accuracy: 0.9243 - val_loss: 0.2449 - val_accuracy: 0.9302\n",
      "Epoch 9/30\n",
      "1719/1719 [==============================] - 10s 6ms/step - loss: 0.2544 - accuracy: 0.9275 - val_loss: 0.2372 - val_accuracy: 0.9320\n",
      "Epoch 10/30\n",
      "1719/1719 [==============================] - 9s 5ms/step - loss: 0.2437 - accuracy: 0.9305 - val_loss: 0.2261 - val_accuracy: 0.9342\n",
      "Epoch 11/30\n",
      "1719/1719 [==============================] - 10s 6ms/step - loss: 0.2339 - accuracy: 0.9337 - val_loss: 0.2172 - val_accuracy: 0.9366\n",
      "Epoch 12/30\n",
      "1719/1719 [==============================] - 10s 6ms/step - loss: 0.2247 - accuracy: 0.9362 - val_loss: 0.2098 - val_accuracy: 0.9402\n",
      "Epoch 13/30\n",
      "1719/1719 [==============================] - 11s 6ms/step - loss: 0.2161 - accuracy: 0.9387 - val_loss: 0.2032 - val_accuracy: 0.9420\n",
      "Epoch 14/30\n",
      "1719/1719 [==============================] - 10s 6ms/step - loss: 0.2085 - accuracy: 0.9406 - val_loss: 0.1966 - val_accuracy: 0.9444\n",
      "Epoch 15/30\n",
      "1719/1719 [==============================] - 9s 5ms/step - loss: 0.2012 - accuracy: 0.9425 - val_loss: 0.1905 - val_accuracy: 0.9448\n",
      "Epoch 16/30\n",
      "1719/1719 [==============================] - 9s 5ms/step - loss: 0.1945 - accuracy: 0.9445 - val_loss: 0.1843 - val_accuracy: 0.9474\n",
      "Epoch 17/30\n",
      "1719/1719 [==============================] - 9s 5ms/step - loss: 0.1882 - accuracy: 0.9459 - val_loss: 0.1803 - val_accuracy: 0.9484\n",
      "Epoch 18/30\n",
      "1719/1719 [==============================] - 9s 5ms/step - loss: 0.1820 - accuracy: 0.9479 - val_loss: 0.1748 - val_accuracy: 0.9508\n",
      "Epoch 19/30\n",
      "1719/1719 [==============================] - 12s 7ms/step - loss: 0.1764 - accuracy: 0.9493 - val_loss: 0.1701 - val_accuracy: 0.9526\n",
      "Epoch 20/30\n",
      "1719/1719 [==============================] - 11s 6ms/step - loss: 0.1708 - accuracy: 0.9512 - val_loss: 0.1652 - val_accuracy: 0.9540\n",
      "Epoch 21/30\n",
      "1719/1719 [==============================] - 9s 5ms/step - loss: 0.1658 - accuracy: 0.9524 - val_loss: 0.1621 - val_accuracy: 0.9542\n",
      "Epoch 22/30\n",
      "1719/1719 [==============================] - 9s 6ms/step - loss: 0.1610 - accuracy: 0.9540 - val_loss: 0.1578 - val_accuracy: 0.9558\n",
      "Epoch 23/30\n",
      "1719/1719 [==============================] - 9s 6ms/step - loss: 0.1564 - accuracy: 0.9554 - val_loss: 0.1549 - val_accuracy: 0.9556\n",
      "Epoch 24/30\n",
      "1719/1719 [==============================] - 9s 6ms/step - loss: 0.1522 - accuracy: 0.9563 - val_loss: 0.1535 - val_accuracy: 0.9568\n",
      "Epoch 25/30\n",
      "1719/1719 [==============================] - 10s 6ms/step - loss: 0.1479 - accuracy: 0.9579 - val_loss: 0.1471 - val_accuracy: 0.9598\n",
      "Epoch 26/30\n",
      "1719/1719 [==============================] - 9s 6ms/step - loss: 0.1441 - accuracy: 0.9590 - val_loss: 0.1443 - val_accuracy: 0.9586\n",
      "Epoch 27/30\n",
      "1719/1719 [==============================] - 9s 6ms/step - loss: 0.1402 - accuracy: 0.9602 - val_loss: 0.1416 - val_accuracy: 0.9606\n",
      "Epoch 28/30\n",
      "1719/1719 [==============================] - 10s 6ms/step - loss: 0.1366 - accuracy: 0.9613 - val_loss: 0.1403 - val_accuracy: 0.9598\n",
      "Epoch 29/30\n",
      "1719/1719 [==============================] - 10s 6ms/step - loss: 0.1333 - accuracy: 0.9621 - val_loss: 0.1376 - val_accuracy: 0.9614\n",
      "Epoch 30/30\n",
      "1719/1719 [==============================] - 10s 6ms/step - loss: 0.1301 - accuracy: 0.9627 - val_loss: 0.1340 - val_accuracy: 0.9628\n"
     ]
    }
   ],
   "source": [
    "# Entrainement du reseau\n",
    "\n",
    "model = build_model(n_hidden=2, n_neurons=100) \n",
    "history = model.fit(X_train, y_train, epochs=30, validation_data=(X_valid, y_valid))"
   ]
  },
  {
   "cell_type": "code",
   "execution_count": 32,
   "metadata": {},
   "outputs": [
    {
     "data": {
      "image/png": "[encoded data removed]",
      "text/plain": [
       "<Figure size 576x360 with 1 Axes>"
      ]
     },
     "metadata": {
      "needs_background": "light"
     },
     "output_type": "display_data"
    }
   ],
   "source": [
    "def show_graphics():\n",
    "    pd.DataFrame(history.history).plot(figsize=(8, 5))\n",
    "    plt.grid(True)\n",
    "    plt.gca().set_ylim(0, 1) # Régler la plage verticale sur [0-1]\n",
    "    plt.show()\n",
    "    \n",
    "show_graphics()"
   ]
  },
  {
   "cell_type": "code",
   "execution_count": 37,
   "metadata": {},
   "outputs": [
    {
     "name": "stdout",
     "output_type": "stream",
     "text": [
      "313/313 [==============================] - 1s 4ms/step - loss: 19.2013 - accuracy: 0.9575\n"
     ]
    },
    {
     "data": {
      "text/plain": [
       "[19.201250076293945, 0.9574999809265137]"
      ]
     },
     "execution_count": 37,
     "metadata": {},
     "output_type": "execute_result"
    }
   ],
   "source": [
    "#Ici on évalue la cpacité de généralisation du modèle\n",
    "\n",
    "model.evaluate(X_test, y_test)"
   ]
  },
  {
   "cell_type": "code",
   "execution_count": 34,
   "metadata": {},
   "outputs": [
    {
     "name": "stdout",
     "output_type": "stream",
     "text": [
      "Model: \"sequential_5\"\n",
      "_________________________________________________________________\n",
      "Layer (type)                 Output Shape              Param #   \n",
      "=================================================================\n",
      "flatten_3 (Flatten)          (None, 784)               0         \n",
      "_________________________________________________________________\n",
      "dense_11 (Dense)             (None, 100)               78500     \n",
      "_________________________________________________________________\n",
      "dense_12 (Dense)             (None, 100)               10100     \n",
      "_________________________________________________________________\n",
      "dense_13 (Dense)             (None, 10)                1010      \n",
      "=================================================================\n",
      "Total params: 89,610\n",
      "Trainable params: 89,610\n",
      "Non-trainable params: 0\n",
      "_________________________________________________________________\n"
     ]
    }
   ],
   "source": [
    "model.summary()"
   ]
  },
  {
   "cell_type": "code",
   "execution_count": 35,
   "metadata": {},
   "outputs": [],
   "source": [
    "# Sauvegarde du modele\n",
    "#model.save(\"mnist_model_neurons_2_100.h5\")"
   ]
  },
  {
   "cell_type": "code",
   "execution_count": null,
   "metadata": {},
   "outputs": [],
   "source": []
  }
 ],
 "metadata": {
  "kernelspec": {
   "display_name": "Python 3",
   "language": "python",
   "name": "python3"
  },
  "language_info": {
   "codemirror_mode": {
    "name": "ipython",
    "version": 3
   },
   "file_extension": ".py",
   "mimetype": "text/x-python",
   "name": "python",
   "nbconvert_exporter": "python",
   "pygments_lexer": "ipython3",
   "version": "3.6.10"
  }
 },
 "nbformat": 4,
 "nbformat_minor": 4
}
